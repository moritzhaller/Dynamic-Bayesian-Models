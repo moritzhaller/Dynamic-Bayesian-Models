{
 "cells": [
  {
   "cell_type": "markdown",
   "metadata": {},
   "source": [
    "## Baio AR-1"
   ]
  },
  {
   "cell_type": "code",
   "execution_count": 2,
   "metadata": {
    "collapsed": true
   },
   "outputs": [],
   "source": [
    "import numpy as np\n",
    "import pandas as pd\n",
    "import pymc3 as pm, theano.tensor as tt\n",
    "import matplotlib.pyplot as plt\n",
    "\n",
    "%matplotlib inline"
   ]
  },
  {
   "cell_type": "markdown",
   "metadata": {},
   "source": [
    "## Time Series"
   ]
  },
  {
   "cell_type": "code",
   "execution_count": 4,
   "metadata": {
    "collapsed": false
   },
   "outputs": [
    {
     "data": {
      "text/html": [
       "<div>\n",
       "<table border=\"1\" class=\"dataframe\">\n",
       "  <thead>\n",
       "    <tr style=\"text-align: right;\">\n",
       "      <th></th>\n",
       "      <th>home_score</th>\n",
       "      <th>away_score</th>\n",
       "      <th>kick_off</th>\n",
       "      <th>home_team</th>\n",
       "      <th>away_team</th>\n",
       "      <th>i_home</th>\n",
       "      <th>i_away</th>\n",
       "      <th>t</th>\n",
       "    </tr>\n",
       "  </thead>\n",
       "  <tbody>\n",
       "    <tr>\n",
       "      <th>290</th>\n",
       "      <td>0</td>\n",
       "      <td>1</td>\n",
       "      <td>2014-08-16</td>\n",
       "      <td>Stoke City</td>\n",
       "      <td>Aston Villa</td>\n",
       "      <td>15</td>\n",
       "      <td>5</td>\n",
       "      <td>1</td>\n",
       "    </tr>\n",
       "    <tr>\n",
       "      <th>56</th>\n",
       "      <td>1</td>\n",
       "      <td>2</td>\n",
       "      <td>2014-08-16</td>\n",
       "      <td>Manchester United</td>\n",
       "      <td>Swansea City</td>\n",
       "      <td>2</td>\n",
       "      <td>19</td>\n",
       "      <td>2</td>\n",
       "    </tr>\n",
       "    <tr>\n",
       "      <th>274</th>\n",
       "      <td>0</td>\n",
       "      <td>1</td>\n",
       "      <td>2014-08-16</td>\n",
       "      <td>West Ham United</td>\n",
       "      <td>Tottenham Hotspur</td>\n",
       "      <td>14</td>\n",
       "      <td>8</td>\n",
       "      <td>3</td>\n",
       "    </tr>\n",
       "    <tr>\n",
       "      <th>10</th>\n",
       "      <td>2</td>\n",
       "      <td>1</td>\n",
       "      <td>2014-08-16</td>\n",
       "      <td>Arsenal</td>\n",
       "      <td>Crystal Palace</td>\n",
       "      <td>0</td>\n",
       "      <td>11</td>\n",
       "      <td>4</td>\n",
       "    </tr>\n",
       "    <tr>\n",
       "      <th>340</th>\n",
       "      <td>0</td>\n",
       "      <td>1</td>\n",
       "      <td>2014-08-16</td>\n",
       "      <td>Queens Park Rangers</td>\n",
       "      <td>Hull City</td>\n",
       "      <td>17</td>\n",
       "      <td>18</td>\n",
       "      <td>5</td>\n",
       "    </tr>\n",
       "    <tr>\n",
       "      <th>235</th>\n",
       "      <td>2</td>\n",
       "      <td>2</td>\n",
       "      <td>2014-08-16</td>\n",
       "      <td>Leicester City</td>\n",
       "      <td>Everton</td>\n",
       "      <td>12</td>\n",
       "      <td>7</td>\n",
       "      <td>6</td>\n",
       "    </tr>\n",
       "    <tr>\n",
       "      <th>202</th>\n",
       "      <td>2</td>\n",
       "      <td>2</td>\n",
       "      <td>2014-08-16</td>\n",
       "      <td>West Bromwich Albion</td>\n",
       "      <td>Sunderland</td>\n",
       "      <td>10</td>\n",
       "      <td>13</td>\n",
       "      <td>7</td>\n",
       "    </tr>\n",
       "    <tr>\n",
       "      <th>62</th>\n",
       "      <td>2</td>\n",
       "      <td>1</td>\n",
       "      <td>2014-08-17</td>\n",
       "      <td>Liverpool</td>\n",
       "      <td>Southampton</td>\n",
       "      <td>3</td>\n",
       "      <td>6</td>\n",
       "      <td>8</td>\n",
       "    </tr>\n",
       "    <tr>\n",
       "      <th>84</th>\n",
       "      <td>0</td>\n",
       "      <td>2</td>\n",
       "      <td>2014-08-17</td>\n",
       "      <td>Newcastle United</td>\n",
       "      <td>Manchester City</td>\n",
       "      <td>4</td>\n",
       "      <td>9</td>\n",
       "      <td>9</td>\n",
       "    </tr>\n",
       "    <tr>\n",
       "      <th>305</th>\n",
       "      <td>1</td>\n",
       "      <td>3</td>\n",
       "      <td>2014-08-18</td>\n",
       "      <td>Burnley</td>\n",
       "      <td>Chelsea</td>\n",
       "      <td>16</td>\n",
       "      <td>1</td>\n",
       "      <td>10</td>\n",
       "    </tr>\n",
       "  </tbody>\n",
       "</table>\n",
       "</div>"
      ],
      "text/plain": [
       "     home_score  away_score    kick_off             home_team  \\\n",
       "290           0           1  2014-08-16            Stoke City   \n",
       "56            1           2  2014-08-16     Manchester United   \n",
       "274           0           1  2014-08-16       West Ham United   \n",
       "10            2           1  2014-08-16               Arsenal   \n",
       "340           0           1  2014-08-16   Queens Park Rangers   \n",
       "235           2           2  2014-08-16        Leicester City   \n",
       "202           2           2  2014-08-16  West Bromwich Albion   \n",
       "62            2           1  2014-08-17             Liverpool   \n",
       "84            0           2  2014-08-17      Newcastle United   \n",
       "305           1           3  2014-08-18               Burnley   \n",
       "\n",
       "             away_team  i_home  i_away   t  \n",
       "290        Aston Villa      15       5   1  \n",
       "56        Swansea City       2      19   2  \n",
       "274  Tottenham Hotspur      14       8   3  \n",
       "10      Crystal Palace       0      11   4  \n",
       "340          Hull City      17      18   5  \n",
       "235            Everton      12       7   6  \n",
       "202         Sunderland      10      13   7  \n",
       "62         Southampton       3       6   8  \n",
       "84     Manchester City       4       9   9  \n",
       "305            Chelsea      16       1  10  "
      ]
     },
     "execution_count": 4,
     "metadata": {},
     "output_type": "execute_result"
    }
   ],
   "source": [
    "ts = pd.read_csv('./data/ts14-15.csv')\n",
    "ts = ts.drop('Unnamed: 0', 1)\n",
    "\n",
    "# Build team index\n",
    "teams = ts.home_team.unique()\n",
    "teams = pd.DataFrame(teams, columns=['team'])\n",
    "teams['i'] = teams.index\n",
    "\n",
    "ts = pd.merge(ts, teams, left_on='home_team', right_on='team', how='left')\n",
    "ts = ts.rename(columns = {'i': 'i_home'}).drop('team', 1)\n",
    "ts = pd.merge(ts, teams, left_on='away_team', right_on='team', how='left')\n",
    "ts = ts.rename(columns = {'i': 'i_away'}).drop('team', 1)\n",
    "\n",
    "# Observed goals stats (Eyeball Poisson)\n",
    "observed_home_goals = ts.home_score.values\n",
    "observed_away_goals = ts.away_score.values\n",
    "\n",
    "home_team = ts.i_home.values\n",
    "away_team = ts.i_away.values\n",
    "\n",
    "num_teams = len(ts.i_home.drop_duplicates())\n",
    "num_games = len(home_team)\n",
    "\n",
    "ts = ts.sort_values(by='kick_off', ascending=1)\n",
    "# ts = ts[((ts['home_team'] == 'Arsenal') | (ts['away_team'] == 'Arsenal'))]\n",
    "ts['t'] = 1\n",
    "# ts['t'] = ts.groupby('kick_off')['t'].cumsum()\n",
    "ts['t'] = ts['t'].cumsum()\n",
    "\n",
    "# ts = ts.set_index(keys='t')\n",
    "# ts.index.name = None\n",
    "ts.iloc[0:10,]"
   ]
  },
  {
   "cell_type": "code",
   "execution_count": 21,
   "metadata": {
    "collapsed": false
   },
   "outputs": [
    {
     "name": "stdout",
     "output_type": "stream",
     "text": [
      "Applied log-transform to tau_att and added transformed tau_att_log to model.\n",
      "Applied log-transform to tau_def and added transformed tau_def_log to model.\n"
     ]
    }
   ],
   "source": [
    "with pm.Model() as model:    \n",
    "    # global home and intercept params?\n",
    "    home = pm.Normal('home', 0, .01)\n",
    "    intercept = pm.Normal('intercept', 0, .01)\n",
    "    tau_att =  pm.Exponential('tau_att', 1./.02)\n",
    "    tau_def =  pm.Exponential('tau_def', 1./.02)\n",
    "\n",
    "    # team-specific model parameters\n",
    "    # atts = [pm.GaussianRandomWalk('atts', tau_att**-2, shape=[num_games])]*len(teams)\n",
    "    # Still center attack and defense parameters?\n",
    "    atts = pm.GaussianRandomWalk('atts', tau_att**-2, shape=[num_teams, num_games])\n",
    "    defs = pm.GaussianRandomWalk('defs', tau_def**-2, shape=[num_teams, num_games])\n",
    "    \n",
    "    home_theta  = tt.exp(intercept + home + atts[home_team] + defs[away_team])\n",
    "    away_theta  = tt.exp(intercept + atts[away_team] + defs[home_team])\n",
    "\n",
    "    # likelihood of observed data\n",
    "    home_points = pm.Poisson('home_points', mu=home_theta, observed=observed_home_goals)\n",
    "    away_points = pm.Poisson('away_points', mu=away_theta, observed=observed_away_goals)"
   ]
  },
  {
   "cell_type": "code",
   "execution_count": 22,
   "metadata": {
    "collapsed": false
   },
   "outputs": [
    {
     "name": "stdout",
     "output_type": "stream",
     "text": [
      " [-----------------100%-----------------] 1 of 1 complete in 0.1 sec"
     ]
    }
   ],
   "source": [
    "# Fit data, starting with the MAP\n",
    "with model:    \n",
    "    start = pm.find_MAP()\n",
    "    step = pm.NUTS(state=start)\n",
    "    trace = pm.sample(2000, step, start=start)"
   ]
  },
  {
   "cell_type": "code",
   "execution_count": 37,
   "metadata": {
    "collapsed": false
   },
   "outputs": [
    {
     "data": {
      "text/plain": [
       "['home',\n",
       " 'tau_att_log',\n",
       " 'tau_def_log',\n",
       " 'intercept',\n",
       " 'atts',\n",
       " 'defs',\n",
       " 'tau_att',\n",
       " 'tau_def']"
      ]
     },
     "execution_count": 37,
     "metadata": {},
     "output_type": "execute_result"
    }
   ],
   "source": [
    "model.vars\n",
    "# pm.traceplot(trace, [home, intercept]);\n",
    "trace.varnames"
   ]
  },
  {
   "cell_type": "code",
   "execution_count": 52,
   "metadata": {
    "collapsed": false
   },
   "outputs": [
    {
     "data": {
      "text/plain": [
       "array([[[ 0.,  0.,  0., ...,  0.,  0.,  0.],\n",
       "        [ 0.,  0.,  0., ...,  0.,  0.,  0.],\n",
       "        [ 0.,  0.,  0., ...,  0.,  0.,  0.],\n",
       "        ..., \n",
       "        [ 0.,  0.,  0., ...,  0.,  0.,  0.],\n",
       "        [ 0.,  0.,  0., ...,  0.,  0.,  0.],\n",
       "        [ 0.,  0.,  0., ...,  0.,  0.,  0.]]])"
      ]
     },
     "execution_count": 52,
     "metadata": {},
     "output_type": "execute_result"
    }
   ],
   "source": [
    "trace['atts']"
   ]
  },
  {
   "cell_type": "code",
   "execution_count": 53,
   "metadata": {
    "collapsed": false
   },
   "outputs": [
    {
     "data": {
      "text/plain": [
       "array([[[ 0.,  0.,  0., ...,  0.,  0.,  0.],\n",
       "        [ 0.,  0.,  0., ...,  0.,  0.,  0.],\n",
       "        [ 0.,  0.,  0., ...,  0.,  0.,  0.],\n",
       "        ..., \n",
       "        [ 0.,  0.,  0., ...,  0.,  0.,  0.],\n",
       "        [ 0.,  0.,  0., ...,  0.,  0.,  0.],\n",
       "        [ 0.,  0.,  0., ...,  0.,  0.,  0.]]])"
      ]
     },
     "execution_count": 53,
     "metadata": {},
     "output_type": "execute_result"
    }
   ],
   "source": [
    "trace['defs']"
   ]
  },
  {
   "cell_type": "code",
   "execution_count": 54,
   "metadata": {
    "collapsed": false
   },
   "outputs": [
    {
     "data": {
      "text/plain": [
       "array([ 0.])"
      ]
     },
     "execution_count": 54,
     "metadata": {},
     "output_type": "execute_result"
    }
   ],
   "source": [
    "trace['home']"
   ]
  },
  {
   "cell_type": "code",
   "execution_count": 55,
   "metadata": {
    "collapsed": false
   },
   "outputs": [
    {
     "data": {
      "text/plain": [
       "array([ 0.])"
      ]
     },
     "execution_count": 55,
     "metadata": {},
     "output_type": "execute_result"
    }
   ],
   "source": [
    "trace['intercept']"
   ]
  },
  {
   "cell_type": "code",
   "execution_count": 57,
   "metadata": {
    "collapsed": false
   },
   "outputs": [
    {
     "data": {
      "text/plain": [
       "array([ 0.01386294])"
      ]
     },
     "execution_count": 57,
     "metadata": {},
     "output_type": "execute_result"
    }
   ],
   "source": [
    "trace['tau_att']"
   ]
  },
  {
   "cell_type": "code",
   "execution_count": 58,
   "metadata": {
    "collapsed": false
   },
   "outputs": [
    {
     "data": {
      "text/plain": [
       "array([ 0.01386294])"
      ]
     },
     "execution_count": 58,
     "metadata": {},
     "output_type": "execute_result"
    }
   ],
   "source": [
    "trace['tau_def']"
   ]
  },
  {
   "cell_type": "code",
   "execution_count": 39,
   "metadata": {
    "collapsed": false
   },
   "outputs": [
    {
     "data": {
      "text/plain": [
       "array([0, 2, 1, 1, 0, 0, 0, 1, 2, 1, 1, 1, 0, 0, 0, 0, 1, 2, 1, 0, 0, 1, 0,\n",
       "       0, 1, 0, 0, 1, 0, 0, 0, 1, 0, 1, 1, 1, 0, 2, 1, 1, 0, 1, 1, 1, 1, 0,\n",
       "       2, 1, 0, 1, 0, 1, 1, 1, 0, 0, 2, 2, 2, 2, 0, 1, 1, 1, 2, 1, 1, 3, 2,\n",
       "       0, 0, 0, 0, 1, 0, 1, 2, 1, 1, 0, 0, 2, 2, 3, 2, 1, 3, 0, 1, 0, 1, 3,\n",
       "       0, 2, 3, 3, 2, 1, 2, 0, 1, 2, 2, 2, 1, 0, 1, 0, 0, 2, 1, 3, 1, 1, 0,\n",
       "       1, 2, 2, 0, 1, 0, 2, 3, 0, 0, 0, 0, 0, 0, 0, 1, 0, 1, 2, 6, 0, 0, 0,\n",
       "       0, 0, 1, 1, 0, 3, 2, 2, 1, 1, 0, 1, 1, 0, 1, 3, 0, 3, 2, 1, 0, 1, 1,\n",
       "       1, 0, 3, 1, 2, 2, 1, 0, 0, 2, 2, 1, 0, 1, 0, 2, 0, 0, 1, 0, 0, 0, 2,\n",
       "       0, 1, 2, 0, 1, 1, 1, 0, 2, 0, 2, 0, 0, 2, 3, 3, 2, 3, 2, 2, 0, 0, 4,\n",
       "       0, 0, 2, 2, 2, 1, 1, 1, 3, 1, 1, 1, 2, 0, 3, 3, 1, 0, 1, 2, 0, 1, 3,\n",
       "       3, 3, 0, 0, 0, 2, 2, 1, 1, 1, 0, 1, 1, 2, 1, 0, 0, 2, 0, 1, 1, 0, 4,\n",
       "       1, 1, 2, 4, 0, 4, 0, 1, 1, 0, 2, 3, 0, 2, 1, 1, 1, 0, 0, 3, 2, 1, 1,\n",
       "       1, 3, 0, 0, 1, 0, 0, 0, 1, 2, 2, 1, 1, 0, 1, 1, 0, 0, 4, 0, 2, 1, 1,\n",
       "       2, 2, 1, 0, 1, 1, 3, 0, 1, 1, 1, 0, 3, 0, 0, 2, 3, 1, 0, 3, 0, 1, 0,\n",
       "       1, 2, 1, 2, 3, 1, 0, 1, 2, 2, 2, 2, 0, 2, 0, 0, 2, 0, 1, 1, 3, 3, 0,\n",
       "       0, 3, 0, 1, 0, 2, 4, 0, 0, 1, 1, 2, 1, 1, 1, 1, 1, 5, 1, 1, 2, 0, 1,\n",
       "       1, 2, 4, 0, 1, 0, 1, 1, 0, 0, 0, 1])"
      ]
     },
     "execution_count": 39,
     "metadata": {},
     "output_type": "execute_result"
    }
   ],
   "source": [
    "observed_away_goals"
   ]
  },
  {
   "cell_type": "code",
   "execution_count": 41,
   "metadata": {
    "collapsed": false
   },
   "outputs": [
    {
     "data": {
      "text/plain": [
       "array([ 1,  2,  3,  4,  5,  6,  7,  8,  9, 10, 11, 12, 13, 14, 15, 16, 17,\n",
       "       18, 19,  0,  2,  3,  4,  5,  6,  7,  8,  9, 10, 11, 12, 13, 14, 15,\n",
       "       16, 17, 18, 19,  0,  1,  3,  4,  5,  6,  7,  8,  9, 10, 11, 12, 13,\n",
       "       14, 15, 16, 17, 18, 19,  0,  1,  2,  4,  5,  6,  7,  8,  9, 10, 11,\n",
       "       12, 13, 14, 15, 16, 17, 18, 19,  0,  1,  2,  3,  5,  6,  7,  8,  9,\n",
       "       10, 11, 12, 13, 14, 15, 16, 17, 18, 19,  0,  1,  2,  3,  4,  6,  7,\n",
       "        8,  9, 10, 11, 12, 13, 14, 15, 16, 17, 18, 19,  0,  1,  2,  3,  4,\n",
       "        5,  7,  8,  9, 10, 11, 12, 13, 14, 15, 16, 17, 18, 19,  0,  1,  2,\n",
       "        3,  4,  5,  6,  8,  9, 10, 11, 12, 13, 14, 15, 16, 17, 18, 19,  0,\n",
       "        1,  2,  3,  4,  5,  6,  7,  9, 10, 11, 12, 13, 14, 15, 16, 17, 18,\n",
       "       19,  0,  1,  2,  3,  4,  5,  6,  7,  8, 10, 11, 12, 13, 14, 15, 16,\n",
       "       17, 18, 19,  0,  1,  2,  3,  4,  5,  6,  7,  8,  9, 11, 12, 13, 14,\n",
       "       15, 16, 17, 18, 19,  0,  1,  2,  3,  4,  5,  6,  7,  8,  9, 10, 12,\n",
       "       13, 14, 15, 16, 17, 18, 19,  0,  1,  2,  3,  4,  5,  6,  7,  8,  9,\n",
       "       10, 11, 13, 14, 15, 16, 17, 18, 19,  0,  1,  2,  3,  4,  5,  6,  7,\n",
       "        8,  9, 10, 11, 12, 14, 15, 16, 17, 18, 19,  0,  1,  2,  3,  4,  5,\n",
       "        6,  7,  8,  9, 10, 11, 12, 13, 15, 16, 17, 18, 19,  0,  1,  2,  3,\n",
       "        4,  5,  6,  7,  8,  9, 10, 11, 12, 13, 14, 16, 17, 18, 19,  0,  1,\n",
       "        2,  3,  4,  5,  6,  7,  8,  9, 10, 11, 12, 13, 14, 15, 17, 18, 19,\n",
       "        0,  1,  2,  3,  4,  5,  6,  7,  8,  9, 10, 11, 12, 13, 14, 15, 16,\n",
       "       18, 19,  0,  1,  2,  3,  4,  5,  6,  7,  8,  9, 10, 11, 12, 13, 14,\n",
       "       15, 16, 17, 19,  0,  1,  2,  3,  4,  5,  6,  7,  8,  9, 10, 11, 12,\n",
       "       13, 14, 15, 16, 17, 18])"
      ]
     },
     "execution_count": 41,
     "metadata": {},
     "output_type": "execute_result"
    }
   ],
   "source": [
    "away_team"
   ]
  }
 ],
 "metadata": {
  "kernelspec": {
   "display_name": "Python 2",
   "language": "python",
   "name": "python2"
  },
  "language_info": {
   "codemirror_mode": {
    "name": "ipython",
    "version": 2
   },
   "file_extension": ".py",
   "mimetype": "text/x-python",
   "name": "python",
   "nbconvert_exporter": "python",
   "pygments_lexer": "ipython2",
   "version": "2.7.10"
  }
 },
 "nbformat": 4,
 "nbformat_minor": 0
}
