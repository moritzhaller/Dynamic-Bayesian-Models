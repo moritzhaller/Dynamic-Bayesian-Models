{
 "cells": [
  {
   "cell_type": "markdown",
   "metadata": {},
   "source": [
    "## AR Mock"
   ]
  },
  {
   "cell_type": "markdown",
   "metadata": {},
   "source": [
    "### Questions\n",
    "- Where exactly does learning and inference happen in PyMC3?\n",
    "- What is the complexity of the model? -> Quantify variables and runtime exactly!\n",
    "- What about the identifiability constraints?"
   ]
  },
  {
   "cell_type": "code",
   "execution_count": 1,
   "metadata": {
    "collapsed": true
   },
   "outputs": [],
   "source": [
    "import numpy as np\n",
    "import pandas as pd\n",
    "import pymc3 as pm, theano.tensor as tt\n",
    "import matplotlib.pyplot as plt\n",
    "\n",
    "%matplotlib inline"
   ]
  },
  {
   "cell_type": "code",
   "execution_count": 32,
   "metadata": {
    "collapsed": false
   },
   "outputs": [
    {
     "name": "stdout",
     "output_type": "stream",
     "text": [
      "num_teams: 4, num_games: 4\n"
     ]
    },
    {
     "data": {
      "text/html": [
       "<div>\n",
       "<table border=\"1\" class=\"dataframe\">\n",
       "  <thead>\n",
       "    <tr style=\"text-align: right;\">\n",
       "      <th></th>\n",
       "      <th>home_score</th>\n",
       "      <th>away_score</th>\n",
       "      <th>home_team</th>\n",
       "      <th>away_team</th>\n",
       "      <th>i_home</th>\n",
       "      <th>i_away</th>\n",
       "    </tr>\n",
       "  </thead>\n",
       "  <tbody>\n",
       "    <tr>\n",
       "      <th>0</th>\n",
       "      <td>2</td>\n",
       "      <td>1</td>\n",
       "      <td>Arsenal</td>\n",
       "      <td>Liverpool</td>\n",
       "      <td>0</td>\n",
       "      <td>1</td>\n",
       "    </tr>\n",
       "    <tr>\n",
       "      <th>1</th>\n",
       "      <td>0</td>\n",
       "      <td>2</td>\n",
       "      <td>Liverpool</td>\n",
       "      <td>Arsenal</td>\n",
       "      <td>1</td>\n",
       "      <td>0</td>\n",
       "    </tr>\n",
       "    <tr>\n",
       "      <th>2</th>\n",
       "      <td>1</td>\n",
       "      <td>1</td>\n",
       "      <td>Burnley</td>\n",
       "      <td>Stoke City</td>\n",
       "      <td>2</td>\n",
       "      <td>3</td>\n",
       "    </tr>\n",
       "    <tr>\n",
       "      <th>3</th>\n",
       "      <td>1</td>\n",
       "      <td>0</td>\n",
       "      <td>Stoke City</td>\n",
       "      <td>Burnley</td>\n",
       "      <td>3</td>\n",
       "      <td>2</td>\n",
       "    </tr>\n",
       "  </tbody>\n",
       "</table>\n",
       "</div>"
      ],
      "text/plain": [
       "   home_score  away_score   home_team   away_team  i_home  i_away\n",
       "0           2           1     Arsenal   Liverpool       0       1\n",
       "1           0           2   Liverpool     Arsenal       1       0\n",
       "2           1           1     Burnley  Stoke City       2       3\n",
       "3           1           0  Stoke City     Burnley       3       2"
      ]
     },
     "execution_count": 32,
     "metadata": {},
     "output_type": "execute_result"
    }
   ],
   "source": [
    "columns = ['home_score', 'away_score', 'home_team', 'away_team', 'i_home', 'i_away']\n",
    "data = [[2,1,'Arsenal','Liverpool',0,1],[0,2,'Liverpool','Arsenal',1,0],\n",
    "        [1,1,'Burnley','Stoke City',2,3],[1,0,'Stoke City','Burnley',3,2]]\n",
    "\n",
    "# data = [[2,1,'Arsenal','Liverpool',0,1],[0,2,'Liverpool','Arsenal',1,0]]\n",
    "\n",
    "df = pd.DataFrame(data=data, columns=columns)\n",
    "\n",
    "observed_home_goals = df.home_score.values\n",
    "observed_away_goals = df.away_score.values\n",
    "\n",
    "home_team = df.i_home.values\n",
    "away_team = df.i_away.values\n",
    "\n",
    "num_teams = len(df.i_home.drop_duplicates())\n",
    "num_games = len(home_team)\n",
    "\n",
    "print \"num_teams: %d, num_games: %d\" %(num_teams, num_games)\n",
    "\n",
    "df"
   ]
  },
  {
   "cell_type": "code",
   "execution_count": 33,
   "metadata": {
    "collapsed": false
   },
   "outputs": [
    {
     "name": "stdout",
     "output_type": "stream",
     "text": [
      "Applied log-transform to tau_att and added transformed tau_att_log to model.\n",
      "Applied log-transform to tau_def and added transformed tau_def_log to model.\n"
     ]
    }
   ],
   "source": [
    "with pm.Model() as model:\n",
    "    # global home and intercept params?\n",
    "    home = pm.Normal('home', 0, .001)\n",
    "    intercept = pm.Normal('intercept', 0, .001)\n",
    "    tau_att =  pm.Exponential('tau_att', 1)\n",
    "    tau_def =  pm.Exponential('tau_def', 1)\n",
    "\n",
    "    atts = pm.GaussianRandomWalk('atts', tau_att**-2, shape=[num_teams, num_games])\n",
    "    defs = pm.GaussianRandomWalk('defs', tau_def**-2, shape=[num_teams, num_games])\n",
    "    \n",
    "    home_theta  = tt.exp(intercept + home + atts[home_team] + defs[away_team])\n",
    "    away_theta  = tt.exp(intercept + atts[away_team] + defs[home_team])\n",
    "\n",
    "    # likelihood of observed data\n",
    "    home_points = pm.Poisson('home_points', mu=home_theta, observed=observed_home_goals)\n",
    "    away_points = pm.Poisson('away_points', mu=away_theta, observed=observed_away_goals)"
   ]
  },
  {
   "cell_type": "code",
   "execution_count": 34,
   "metadata": {
    "collapsed": false
   },
   "outputs": [
    {
     "ename": "ValueError",
     "evalue": "Optimization error: max, logp or dlogp at max have non-finite values. Some values may be outside of distribution support. max: {'defs': array([[  5.09406847e+00,   3.05948219e-03,   3.05948219e-03,\n         -6.40483250e+00],\n       [  5.09406847e+00,   3.05948219e-03,   3.05948219e-03,\n         -6.40483250e+00],\n       [  5.09406847e+00,   3.05948219e-03,   3.05948219e-03,\n         -6.40483250e+00],\n       [  5.09406847e+00,   3.05948219e-03,   3.05948219e-03,\n         -6.40483250e+00]]), 'intercept': array(-5.218572550077921), 'atts': array([[  5.09406847e+00,   3.05948219e-03,   3.05948219e-03,\n         -6.40483250e+00],\n       [  5.09406847e+00,   3.05948219e-03,   3.05948219e-03,\n         -6.40483250e+00],\n       [  5.09406847e+00,   3.05948219e-03,   3.05948219e-03,\n         -6.40483250e+00],\n       [  5.09406847e+00,   3.05948219e-03,   3.05948219e-03,\n         -6.40483250e+00]]), 'home': array(-2.1037639630128853), 'tau_att_log': array(-306.46601255711954), 'tau_def_log': array(-306.46601255711954)} logp: array(27929.58481543997) dlogp: array([ -54.25563543, -614.15274932,           nan,           nan,\n       -158.52726604,    1.99388704,    1.99388704,    0.99999998,\n       -158.52726604,    1.99388704,    1.99388704,    0.99999998,\n       -158.52726604,    1.99388704,    1.99388704,    0.99999998,\n       -158.52726604,    1.99388704,    1.99388704,    0.99999998,\n       -158.52726604,    1.99388704,    1.99388704,    0.99999998,\n       -158.52726604,    1.99388704,    1.99388704,    0.99999998,\n       -158.52726604,    1.99388704,    1.99388704,    0.99999998,\n       -158.52726604,    1.99388704,    1.99388704,    0.99999998])Check that 1) you don't have hierarchical parameters, these will lead to points with infinite density. 2) your distribution logp's are properly specified. Specific issues: \ndefs.dlogp bad at idx: (array([16]),) with values: [ nan]\natts.dlogp bad at idx: (array([16]),) with values: [ nan]",
     "output_type": "error",
     "traceback": [
      "\u001b[0;31m---------------------------------------------------------------------------\u001b[0m",
      "\u001b[0;31mValueError\u001b[0m                                Traceback (most recent call last)",
      "\u001b[0;32m<ipython-input-34-b75188db6cbc>\u001b[0m in \u001b[0;36m<module>\u001b[0;34m()\u001b[0m\n\u001b[1;32m      1\u001b[0m \u001b[0;32mwith\u001b[0m \u001b[0mmodel\u001b[0m\u001b[0;34m:\u001b[0m\u001b[0;34m\u001b[0m\u001b[0m\n\u001b[0;32m----> 2\u001b[0;31m     \u001b[0mstart\u001b[0m \u001b[0;34m=\u001b[0m \u001b[0mpm\u001b[0m\u001b[0;34m.\u001b[0m\u001b[0mfind_MAP\u001b[0m\u001b[0;34m(\u001b[0m\u001b[0;34m)\u001b[0m\u001b[0;34m\u001b[0m\u001b[0m\n\u001b[0m\u001b[1;32m      3\u001b[0m     \u001b[0mstep\u001b[0m \u001b[0;34m=\u001b[0m \u001b[0mpm\u001b[0m\u001b[0;34m.\u001b[0m\u001b[0mNUTS\u001b[0m\u001b[0;34m(\u001b[0m\u001b[0mstate\u001b[0m\u001b[0;34m=\u001b[0m\u001b[0mstart\u001b[0m\u001b[0;34m)\u001b[0m\u001b[0;34m\u001b[0m\u001b[0m\n\u001b[1;32m      4\u001b[0m     \u001b[0mtrace\u001b[0m \u001b[0;34m=\u001b[0m \u001b[0mpm\u001b[0m\u001b[0;34m.\u001b[0m\u001b[0msample\u001b[0m\u001b[0;34m(\u001b[0m\u001b[0;36m2000\u001b[0m\u001b[0;34m,\u001b[0m \u001b[0mstep\u001b[0m\u001b[0;34m,\u001b[0m \u001b[0mstart\u001b[0m\u001b[0;34m=\u001b[0m\u001b[0mstart\u001b[0m\u001b[0;34m)\u001b[0m\u001b[0;34m\u001b[0m\u001b[0m\n",
      "\u001b[0;32m/Library/Python/2.7/site-packages/pymc3/tuning/starting.pyc\u001b[0m in \u001b[0;36mfind_MAP\u001b[0;34m(start, vars, fmin, return_raw, model, *args, **kwargs)\u001b[0m\n\u001b[1;32m    125\u001b[0m                          \u001b[0;34m\"density. 2) your distribution logp's are \"\u001b[0m \u001b[0;34m+\u001b[0m\u001b[0;34m\u001b[0m\u001b[0m\n\u001b[1;32m    126\u001b[0m                          \u001b[0;34m\"properly specified. Specific issues: \\n\"\u001b[0m \u001b[0;34m+\u001b[0m\u001b[0;34m\u001b[0m\u001b[0m\n\u001b[0;32m--> 127\u001b[0;31m                          specific_errors)\n\u001b[0m\u001b[1;32m    128\u001b[0m     \u001b[0mmx\u001b[0m \u001b[0;34m=\u001b[0m \u001b[0;34m{\u001b[0m\u001b[0mv\u001b[0m\u001b[0;34m.\u001b[0m\u001b[0mname\u001b[0m\u001b[0;34m:\u001b[0m \u001b[0mmx\u001b[0m\u001b[0;34m[\u001b[0m\u001b[0mv\u001b[0m\u001b[0;34m.\u001b[0m\u001b[0mname\u001b[0m\u001b[0;34m]\u001b[0m\u001b[0;34m.\u001b[0m\u001b[0mastype\u001b[0m\u001b[0;34m(\u001b[0m\u001b[0mv\u001b[0m\u001b[0;34m.\u001b[0m\u001b[0mdtype\u001b[0m\u001b[0;34m)\u001b[0m \u001b[0;32mfor\u001b[0m \u001b[0mv\u001b[0m \u001b[0;32min\u001b[0m \u001b[0mmodel\u001b[0m\u001b[0;34m.\u001b[0m\u001b[0mvars\u001b[0m\u001b[0;34m}\u001b[0m\u001b[0;34m\u001b[0m\u001b[0m\n\u001b[1;32m    129\u001b[0m \u001b[0;34m\u001b[0m\u001b[0m\n",
      "\u001b[0;31mValueError\u001b[0m: Optimization error: max, logp or dlogp at max have non-finite values. Some values may be outside of distribution support. max: {'defs': array([[  5.09406847e+00,   3.05948219e-03,   3.05948219e-03,\n         -6.40483250e+00],\n       [  5.09406847e+00,   3.05948219e-03,   3.05948219e-03,\n         -6.40483250e+00],\n       [  5.09406847e+00,   3.05948219e-03,   3.05948219e-03,\n         -6.40483250e+00],\n       [  5.09406847e+00,   3.05948219e-03,   3.05948219e-03,\n         -6.40483250e+00]]), 'intercept': array(-5.218572550077921), 'atts': array([[  5.09406847e+00,   3.05948219e-03,   3.05948219e-03,\n         -6.40483250e+00],\n       [  5.09406847e+00,   3.05948219e-03,   3.05948219e-03,\n         -6.40483250e+00],\n       [  5.09406847e+00,   3.05948219e-03,   3.05948219e-03,\n         -6.40483250e+00],\n       [  5.09406847e+00,   3.05948219e-03,   3.05948219e-03,\n         -6.40483250e+00]]), 'home': array(-2.1037639630128853), 'tau_att_log': array(-306.46601255711954), 'tau_def_log': array(-306.46601255711954)} logp: array(27929.58481543997) dlogp: array([ -54.25563543, -614.15274932,           nan,           nan,\n       -158.52726604,    1.99388704,    1.99388704,    0.99999998,\n       -158.52726604,    1.99388704,    1.99388704,    0.99999998,\n       -158.52726604,    1.99388704,    1.99388704,    0.99999998,\n       -158.52726604,    1.99388704,    1.99388704,    0.99999998,\n       -158.52726604,    1.99388704,    1.99388704,    0.99999998,\n       -158.52726604,    1.99388704,    1.99388704,    0.99999998,\n       -158.52726604,    1.99388704,    1.99388704,    0.99999998,\n       -158.52726604,    1.99388704,    1.99388704,    0.99999998])Check that 1) you don't have hierarchical parameters, these will lead to points with infinite density. 2) your distribution logp's are properly specified. Specific issues: \ndefs.dlogp bad at idx: (array([16]),) with values: [ nan]\natts.dlogp bad at idx: (array([16]),) with values: [ nan]"
     ]
    }
   ],
   "source": [
    "with model:\n",
    "    start = pm.find_MAP()\n",
    "    step = pm.NUTS(state=start)\n",
    "    trace = pm.sample(2000, step, start=start)"
   ]
  },
  {
   "cell_type": "code",
   "execution_count": 19,
   "metadata": {
    "collapsed": false
   },
   "outputs": [
    {
     "data": {
      "text/plain": [
       "['home',\n",
       " 'intercept',\n",
       " 'tau_att_log',\n",
       " 'tau_def_log',\n",
       " 'atts',\n",
       " 'defs',\n",
       " 'tau_att',\n",
       " 'tau_def']"
      ]
     },
     "execution_count": 19,
     "metadata": {},
     "output_type": "execute_result"
    }
   ],
   "source": [
    "trace.varnames"
   ]
  },
  {
   "cell_type": "code",
   "execution_count": 31,
   "metadata": {
    "collapsed": false
   },
   "outputs": [
    {
     "data": {
      "text/plain": [
       "array([[<matplotlib.axes.AxesSubplot object at 0x11f687710>,\n",
       "        <matplotlib.axes.AxesSubplot object at 0x120bc6ed0>],\n",
       "       [<matplotlib.axes.AxesSubplot object at 0x12116d250>,\n",
       "        <matplotlib.axes.AxesSubplot object at 0x122480910>]], dtype=object)"
      ]
     },
     "execution_count": 31,
     "metadata": {},
     "output_type": "execute_result"
    },
    {
     "data": {
      "image/png": "[encoded data removed]",
      "text/plain": [
       "<matplotlib.figure.Figure at 0x120caf790>"
      ]
     },
     "metadata": {},
     "output_type": "display_data"
    }
   ],
   "source": [
    "pm.traceplot(trace, ['atts', 'defs'])"
   ]
  },
  {
   "cell_type": "code",
   "execution_count": null,
   "metadata": {
    "collapsed": true
   },
   "outputs": [],
   "source": []
  }
 ],
 "metadata": {
  "kernelspec": {
   "display_name": "Python 2",
   "language": "python",
   "name": "python2"
  },
  "language_info": {
   "codemirror_mode": {
    "name": "ipython",
    "version": 2
   },
   "file_extension": ".py",
   "mimetype": "text/x-python",
   "name": "python",
   "nbconvert_exporter": "python",
   "pygments_lexer": "ipython2",
   "version": "2.7.10"
  }
 },
 "nbformat": 4,
 "nbformat_minor": 0
}
