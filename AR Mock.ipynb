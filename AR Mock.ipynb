{
 "cells": [
  {
   "cell_type": "markdown",
   "metadata": {},
   "source": [
    "## AR Mock"
   ]
  },
  {
   "cell_type": "markdown",
   "metadata": {},
   "source": [
    "### Questions\n",
    "- What is the complexity of the model? -> Quantify variables and runtime exactly!\n",
    "- What about the identifiability constraints?"
   ]
  },
  {
   "cell_type": "code",
   "execution_count": 1,
   "metadata": {
    "collapsed": true
   },
   "outputs": [],
   "source": [
    "import numpy as np\n",
    "import pandas as pd\n",
    "import pymc3 as pm, theano.tensor as tt\n",
    "import matplotlib.pyplot as plt\n",
    "\n",
    "%matplotlib inline"
   ]
  },
  {
   "cell_type": "code",
   "execution_count": 5,
   "metadata": {
    "collapsed": false
   },
   "outputs": [
    {
     "name": "stdout",
     "output_type": "stream",
     "text": [
      "num_teams: 2, num_games: 2\n"
     ]
    },
    {
     "data": {
      "text/html": [
       "<div>\n",
       "<table border=\"1\" class=\"dataframe\">\n",
       "  <thead>\n",
       "    <tr style=\"text-align: right;\">\n",
       "      <th></th>\n",
       "      <th>home_score</th>\n",
       "      <th>away_score</th>\n",
       "      <th>home_team</th>\n",
       "      <th>away_team</th>\n",
       "      <th>i_home</th>\n",
       "      <th>i_away</th>\n",
       "    </tr>\n",
       "  </thead>\n",
       "  <tbody>\n",
       "    <tr>\n",
       "      <th>0</th>\n",
       "      <td>2</td>\n",
       "      <td>1</td>\n",
       "      <td>Arsenal</td>\n",
       "      <td>Liverpool</td>\n",
       "      <td>0</td>\n",
       "      <td>1</td>\n",
       "    </tr>\n",
       "    <tr>\n",
       "      <th>1</th>\n",
       "      <td>0</td>\n",
       "      <td>2</td>\n",
       "      <td>Liverpool</td>\n",
       "      <td>Arsenal</td>\n",
       "      <td>1</td>\n",
       "      <td>0</td>\n",
       "    </tr>\n",
       "  </tbody>\n",
       "</table>\n",
       "</div>"
      ],
      "text/plain": [
       "   home_score  away_score  home_team  away_team  i_home  i_away\n",
       "0           2           1    Arsenal  Liverpool       0       1\n",
       "1           0           2  Liverpool    Arsenal       1       0"
      ]
     },
     "execution_count": 5,
     "metadata": {},
     "output_type": "execute_result"
    }
   ],
   "source": [
    "columns = ['home_score', 'away_score', 'home_team', 'away_team', 'i_home', 'i_away']\n",
    "\n",
    "# data = [[2,1,'Arsenal','Liverpool',0,1],[0,2,'Liverpool','Arsenal',1,0],\n",
    "#         [1,1,'Arsenal','Liverpool',0,1],[2,2,'Liverpool','Arsenal',1,0],\n",
    "#         [3,1,'Arsenal','Liverpool',0,1],[1,2,'Liverpool','Arsenal',1,0],\n",
    "#         [1,0,'Arsenal','Liverpool',0,1],[0,2,'Liverpool','Arsenal',1,0]]\n",
    "\n",
    "# data = [[2,1,'Arsenal','Liverpool',0,1],[0,2,'Liverpool','Arsenal',1,0],\n",
    "#         [1,1,'Burnley','Stoke City',2,3],[1,0,'Stoke City','Burnley',3,2]]\n",
    "\n",
    "data = [[2,1,'Arsenal','Liverpool',0,1],[0,2,'Liverpool','Arsenal',1,0]]\n",
    "\n",
    "df = pd.DataFrame(data=data, columns=columns)\n",
    "\n",
    "observed_home_goals = df.home_score.values\n",
    "observed_away_goals = df.away_score.values\n",
    "\n",
    "home_team = df.i_home.values\n",
    "away_team = df.i_away.values\n",
    "\n",
    "num_teams = len(df.i_home.drop_duplicates())\n",
    "num_games = len(home_team)\n",
    "\n",
    "print \"num_teams: %d, num_games: %d\" %(num_teams, num_games)\n",
    "\n",
    "df"
   ]
  },
  {
   "cell_type": "code",
   "execution_count": 6,
   "metadata": {
    "collapsed": false
   },
   "outputs": [
    {
     "name": "stdout",
     "output_type": "stream",
     "text": [
      "Applied log-transform to tau_att and added transformed tau_att_log to model.\n",
      "Applied log-transform to tau_def and added transformed tau_def_log to model.\n"
     ]
    }
   ],
   "source": [
    "with pm.Model() as model:\n",
    "    # global home and intercept params?\n",
    "    home = pm.Normal('home', 0, .001)\n",
    "    intercept = pm.Normal('intercept', 0, .001)\n",
    "    tau_att =  pm.Exponential('tau_att', 1./.02)\n",
    "    tau_def =  pm.Exponential('tau_def', 1./.02)\n",
    "\n",
    "    atts = pm.GaussianRandomWalk('atts', tau_att**-2, shape=[num_teams, num_games])\n",
    "    defs = pm.GaussianRandomWalk('defs', tau_def**-2, shape=[num_teams, num_games])\n",
    "    \n",
    "    home_theta  = tt.exp(intercept + home + atts[home_team] + defs[away_team])\n",
    "    away_theta  = tt.exp(intercept + atts[away_team] + defs[home_team])\n",
    "\n",
    "    # likelihood of observed data\n",
    "    home_points = pm.Poisson('home_points', mu=home_theta, observed=observed_home_goals)\n",
    "    away_points = pm.Poisson('away_points', mu=away_theta, observed=observed_away_goals)"
   ]
  },
  {
   "cell_type": "code",
   "execution_count": 7,
   "metadata": {
    "collapsed": false
   },
   "outputs": [
    {
     "name": "stdout",
     "output_type": "stream",
     "text": [
      "Iteration 0 [0%]: ELBO = -218383.91\n",
      "Iteration 20000 [10%]: ELBO = -20.16\n",
      "Iteration 40000 [20%]: ELBO = -25.14\n",
      "Iteration 60000 [30%]: ELBO = -39.74\n",
      "Iteration 80000 [40%]: ELBO = -24.01\n",
      "Iteration 100000 [50%]: ELBO = -22.94\n",
      "Iteration 120000 [60%]: ELBO = -28.39\n",
      "Iteration 140000 [70%]: ELBO = -18.35\n",
      "Iteration 160000 [80%]: ELBO = -28.09\n",
      "Iteration 180000 [90%]: ELBO = -22.13\n",
      "Finished [100%]: ELBO = -43.42\n"
     ]
    }
   ],
   "source": [
    "with model:\n",
    "    mu, sds, elbo = pm.variational.advi(n=200000)"
   ]
  },
  {
   "cell_type": "code",
   "execution_count": null,
   "metadata": {
    "collapsed": false
   },
   "outputs": [
    {
     "name": "stdout",
     "output_type": "stream",
     "text": [
      " [                  0%                  ] 18 of 20000 complete in 44.3 sec"
     ]
    }
   ],
   "source": [
    "# Try variational inference\n",
    "with model:\n",
    "    # Start next run at the last sampled position.\n",
    "    step = pm.NUTS(scaling=model.dict_to_array(sds), is_cov=True)\n",
    "    trace = pm.sample(20000, step, start=mu)\n",
    "    \n",
    "# with model:\n",
    "#     start = pm.find_MAP()\n",
    "#     step = pm.NUTS(state=start)\n",
    "#     trace = pm.sample(2000, step, start=start)"
   ]
  },
  {
   "cell_type": "code",
   "execution_count": null,
   "metadata": {
    "collapsed": false
   },
   "outputs": [],
   "source": [
    "figsize(12,6)\n",
    "pm.traceplot(trace, ['atts', 'defs'])"
   ]
  }
 ],
 "metadata": {
  "kernelspec": {
   "display_name": "Python 2",
   "language": "python",
   "name": "python2"
  },
  "language_info": {
   "codemirror_mode": {
    "name": "ipython",
    "version": 2
   },
   "file_extension": ".py",
   "mimetype": "text/x-python",
   "name": "python",
   "nbconvert_exporter": "python",
   "pygments_lexer": "ipython2",
   "version": "2.7.10"
  }
 },
 "nbformat": 4,
 "nbformat_minor": 0
}
